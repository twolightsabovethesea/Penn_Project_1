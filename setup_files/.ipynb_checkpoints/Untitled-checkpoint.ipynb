{
 "cells": [
  {
   "cell_type": "code",
   "execution_count": 139,
   "id": "1f39dcf3-e5e6-4198-b285-5bb745640fd2",
   "metadata": {},
   "outputs": [],
   "source": [
    "#import dependencies\n",
    "import pandas as pd\n",
    "import matplotlib.pyplot as plt\n",
    "import numpy as np\n",
    "from scipy.stats import linregress\n",
    "import scipy.stats as st\n"
   ]
  },
  {
   "cell_type": "code",
   "execution_count": 69,
   "id": "e36b3e7b-926e-4332-a896-09744b484ae4",
   "metadata": {},
   "outputs": [],
   "source": [
    "#read in csv data on alcohol related crashes in PA in 2019 and 2020\n",
    "crash_2019_int = pd.read_csv(\"../Crash_Data/dui_2019_csv\")\n",
    "crash_2020_df = pd.read_csv(\"../Crash_Data/dui_csv\")\n"
   ]
  },
  {
   "cell_type": "code",
   "execution_count": 72,
   "id": "68dcfe7f-b69c-4adf-8749-349c1d9e40d8",
   "metadata": {},
   "outputs": [
    {
     "data": {
      "text/html": [
       "<div>\n",
       "<style scoped>\n",
       "    .dataframe tbody tr th:only-of-type {\n",
       "        vertical-align: middle;\n",
       "    }\n",
       "\n",
       "    .dataframe tbody tr th {\n",
       "        vertical-align: top;\n",
       "    }\n",
       "\n",
       "    .dataframe thead th {\n",
       "        text-align: right;\n",
       "    }\n",
       "</style>\n",
       "<table border=\"1\" class=\"dataframe\">\n",
       "  <thead>\n",
       "    <tr style=\"text-align: right;\">\n",
       "      <th></th>\n",
       "      <th>CRN</th>\n",
       "      <th>COUNTY</th>\n",
       "      <th>CRASH_MONTH</th>\n",
       "      <th>DEC_LAT</th>\n",
       "      <th>DEC_LONG</th>\n",
       "      <th>FATAL_COUNT</th>\n",
       "      <th>ALCOHOL_RELATED</th>\n",
       "      <th>DRINKING_DRIVER</th>\n",
       "      <th>UNDERAGE_DRNK_DRV</th>\n",
       "      <th>COUNTY NAME</th>\n",
       "    </tr>\n",
       "  </thead>\n",
       "  <tbody>\n",
       "    <tr>\n",
       "      <th>0</th>\n",
       "      <td>2020051395</td>\n",
       "      <td>22.0</td>\n",
       "      <td>8.0</td>\n",
       "      <td>40.2853</td>\n",
       "      <td>-76.7057</td>\n",
       "      <td>0.0</td>\n",
       "      <td>1.0</td>\n",
       "      <td>1.0</td>\n",
       "      <td>0.0</td>\n",
       "      <td>DAUPHIN</td>\n",
       "    </tr>\n",
       "    <tr>\n",
       "      <th>1</th>\n",
       "      <td>2020061721</td>\n",
       "      <td>11.0</td>\n",
       "      <td>7.0</td>\n",
       "      <td>40.4416</td>\n",
       "      <td>-78.8916</td>\n",
       "      <td>0.0</td>\n",
       "      <td>1.0</td>\n",
       "      <td>1.0</td>\n",
       "      <td>0.0</td>\n",
       "      <td>CAMBRIA</td>\n",
       "    </tr>\n",
       "    <tr>\n",
       "      <th>2</th>\n",
       "      <td>2019005958</td>\n",
       "      <td>25.0</td>\n",
       "      <td>1.0</td>\n",
       "      <td>41.8799</td>\n",
       "      <td>-80.2201</td>\n",
       "      <td>0.0</td>\n",
       "      <td>1.0</td>\n",
       "      <td>1.0</td>\n",
       "      <td>0.0</td>\n",
       "      <td>ERIE</td>\n",
       "    </tr>\n",
       "    <tr>\n",
       "      <th>3</th>\n",
       "      <td>2019014882</td>\n",
       "      <td>21.0</td>\n",
       "      <td>1.0</td>\n",
       "      <td>40.1555</td>\n",
       "      <td>-77.1958</td>\n",
       "      <td>1.0</td>\n",
       "      <td>1.0</td>\n",
       "      <td>0.0</td>\n",
       "      <td>0.0</td>\n",
       "      <td>CUMBERLAND</td>\n",
       "    </tr>\n",
       "    <tr>\n",
       "      <th>4</th>\n",
       "      <td>2019049811</td>\n",
       "      <td>17.0</td>\n",
       "      <td>4.0</td>\n",
       "      <td>40.9779</td>\n",
       "      <td>-78.5027</td>\n",
       "      <td>1.0</td>\n",
       "      <td>1.0</td>\n",
       "      <td>1.0</td>\n",
       "      <td>0.0</td>\n",
       "      <td>CLEARFIELD</td>\n",
       "    </tr>\n",
       "    <tr>\n",
       "      <th>...</th>\n",
       "      <td>...</td>\n",
       "      <td>...</td>\n",
       "      <td>...</td>\n",
       "      <td>...</td>\n",
       "      <td>...</td>\n",
       "      <td>...</td>\n",
       "      <td>...</td>\n",
       "      <td>...</td>\n",
       "      <td>...</td>\n",
       "      <td>...</td>\n",
       "    </tr>\n",
       "    <tr>\n",
       "      <th>9285</th>\n",
       "      <td>2019122846</td>\n",
       "      <td>62.0</td>\n",
       "      <td>11.0</td>\n",
       "      <td>40.3843</td>\n",
       "      <td>-80.4226</td>\n",
       "      <td>0.0</td>\n",
       "      <td>1.0</td>\n",
       "      <td>1.0</td>\n",
       "      <td>0.0</td>\n",
       "      <td>WASHINGTON</td>\n",
       "    </tr>\n",
       "    <tr>\n",
       "      <th>9286</th>\n",
       "      <td>2019129541</td>\n",
       "      <td>28.0</td>\n",
       "      <td>11.0</td>\n",
       "      <td>39.9053</td>\n",
       "      <td>-77.6722</td>\n",
       "      <td>0.0</td>\n",
       "      <td>1.0</td>\n",
       "      <td>1.0</td>\n",
       "      <td>0.0</td>\n",
       "      <td>FRANKLIN</td>\n",
       "    </tr>\n",
       "    <tr>\n",
       "      <th>9287</th>\n",
       "      <td>2019132420</td>\n",
       "      <td>37.0</td>\n",
       "      <td>12.0</td>\n",
       "      <td>40.9990</td>\n",
       "      <td>-80.3349</td>\n",
       "      <td>0.0</td>\n",
       "      <td>1.0</td>\n",
       "      <td>1.0</td>\n",
       "      <td>0.0</td>\n",
       "      <td>LAWRENCE</td>\n",
       "    </tr>\n",
       "    <tr>\n",
       "      <th>9288</th>\n",
       "      <td>2019132209</td>\n",
       "      <td>7.0</td>\n",
       "      <td>12.0</td>\n",
       "      <td>40.4706</td>\n",
       "      <td>-78.3994</td>\n",
       "      <td>0.0</td>\n",
       "      <td>1.0</td>\n",
       "      <td>0.0</td>\n",
       "      <td>0.0</td>\n",
       "      <td>BLAIR</td>\n",
       "    </tr>\n",
       "    <tr>\n",
       "      <th>9289</th>\n",
       "      <td>2019093748</td>\n",
       "      <td>NaN</td>\n",
       "      <td>NaN</td>\n",
       "      <td>NaN</td>\n",
       "      <td>NaN</td>\n",
       "      <td>NaN</td>\n",
       "      <td>1.0</td>\n",
       "      <td>1.0</td>\n",
       "      <td>0.0</td>\n",
       "      <td>NaN</td>\n",
       "    </tr>\n",
       "  </tbody>\n",
       "</table>\n",
       "<p>9290 rows × 10 columns</p>\n",
       "</div>"
      ],
      "text/plain": [
       "             CRN  COUNTY  CRASH_MONTH  DEC_LAT  DEC_LONG  FATAL_COUNT  \\\n",
       "0     2020051395    22.0          8.0  40.2853  -76.7057          0.0   \n",
       "1     2020061721    11.0          7.0  40.4416  -78.8916          0.0   \n",
       "2     2019005958    25.0          1.0  41.8799  -80.2201          0.0   \n",
       "3     2019014882    21.0          1.0  40.1555  -77.1958          1.0   \n",
       "4     2019049811    17.0          4.0  40.9779  -78.5027          1.0   \n",
       "...          ...     ...          ...      ...       ...          ...   \n",
       "9285  2019122846    62.0         11.0  40.3843  -80.4226          0.0   \n",
       "9286  2019129541    28.0         11.0  39.9053  -77.6722          0.0   \n",
       "9287  2019132420    37.0         12.0  40.9990  -80.3349          0.0   \n",
       "9288  2019132209     7.0         12.0  40.4706  -78.3994          0.0   \n",
       "9289  2019093748     NaN          NaN      NaN       NaN          NaN   \n",
       "\n",
       "      ALCOHOL_RELATED  DRINKING_DRIVER  UNDERAGE_DRNK_DRV COUNTY NAME  \n",
       "0                 1.0              1.0                0.0     DAUPHIN  \n",
       "1                 1.0              1.0                0.0     CAMBRIA  \n",
       "2                 1.0              1.0                0.0        ERIE  \n",
       "3                 1.0              0.0                0.0  CUMBERLAND  \n",
       "4                 1.0              1.0                0.0  CLEARFIELD  \n",
       "...               ...              ...                ...         ...  \n",
       "9285              1.0              1.0                0.0  WASHINGTON  \n",
       "9286              1.0              1.0                0.0    FRANKLIN  \n",
       "9287              1.0              1.0                0.0    LAWRENCE  \n",
       "9288              1.0              0.0                0.0       BLAIR  \n",
       "9289              1.0              1.0                0.0         NaN  \n",
       "\n",
       "[9290 rows x 10 columns]"
      ]
     },
     "execution_count": 72,
     "metadata": {},
     "output_type": "execute_result"
    }
   ],
   "source": [
    "crash_2019_int"
   ]
  },
  {
   "cell_type": "code",
   "execution_count": 73,
   "id": "c9b30d68-a758-4d42-b1ca-62b047753d00",
   "metadata": {},
   "outputs": [],
   "source": [
    "crash_2019_int[\"COUNTY\"].fillna(0,inplace=True)"
   ]
  },
  {
   "cell_type": "code",
   "execution_count": 74,
   "id": "031aa52c-c798-4123-9023-afd15751d90c",
   "metadata": {},
   "outputs": [],
   "source": [
    "crash_2019_int[\"CRASH_MONTH\"].fillna(0,inplace=True)"
   ]
  },
  {
   "cell_type": "code",
   "execution_count": 76,
   "id": "8ec0405a-d888-42e5-8ba4-b4bdbecc1c1d",
   "metadata": {},
   "outputs": [
    {
     "data": {
      "text/plain": [
       "CRN                    int64\n",
       "COUNTY               float64\n",
       "CRASH_MONTH          float64\n",
       "DEC_LAT              float64\n",
       "DEC_LONG             float64\n",
       "FATAL_COUNT          float64\n",
       "ALCOHOL_RELATED      float64\n",
       "DRINKING_DRIVER      float64\n",
       "UNDERAGE_DRNK_DRV    float64\n",
       "COUNTY NAME           object\n",
       "dtype: object"
      ]
     },
     "execution_count": 76,
     "metadata": {},
     "output_type": "execute_result"
    }
   ],
   "source": [
    "crash_2019_int.dtypes"
   ]
  },
  {
   "cell_type": "code",
   "execution_count": 77,
   "id": "ed062fce-7c29-4ba2-b118-4d60dddd4023",
   "metadata": {},
   "outputs": [
    {
     "data": {
      "text/plain": [
       "0        8\n",
       "1        7\n",
       "2        1\n",
       "3        1\n",
       "4        4\n",
       "        ..\n",
       "9285    11\n",
       "9286    11\n",
       "9287    12\n",
       "9288    12\n",
       "9289     0\n",
       "Name: CRASH_MONTH, Length: 9290, dtype: int64"
      ]
     },
     "execution_count": 77,
     "metadata": {},
     "output_type": "execute_result"
    }
   ],
   "source": [
    "crash_2019_int[\"CRASH_MONTH\"].astype(int)"
   ]
  },
  {
   "cell_type": "code",
   "execution_count": 79,
   "id": "67646cb8-528e-42ec-b146-abc2123d67d3",
   "metadata": {},
   "outputs": [
    {
     "data": {
      "text/plain": [
       "CRN                    int64\n",
       "COUNTY                 int64\n",
       "CRASH_MONTH          float64\n",
       "DEC_LAT              float64\n",
       "DEC_LONG             float64\n",
       "FATAL_COUNT          float64\n",
       "ALCOHOL_RELATED      float64\n",
       "DRINKING_DRIVER      float64\n",
       "UNDERAGE_DRNK_DRV    float64\n",
       "COUNTY NAME           object\n",
       "dtype: object"
      ]
     },
     "execution_count": 79,
     "metadata": {},
     "output_type": "execute_result"
    }
   ],
   "source": [
    "\n",
    "crash_2019_int[\"COUNTY\"] = crash_2019_int[\"COUNTY\"].astype(int)\n",
    "crash_2019_int.dtypes"
   ]
  },
  {
   "cell_type": "code",
   "execution_count": 80,
   "id": "40636fec-5b06-443c-81cd-fee1199457b8",
   "metadata": {},
   "outputs": [
    {
     "data": {
      "text/plain": [
       "CRN                    int64\n",
       "COUNTY                 int64\n",
       "CRASH_MONTH            int64\n",
       "DEC_LAT              float64\n",
       "DEC_LONG             float64\n",
       "FATAL_COUNT          float64\n",
       "ALCOHOL_RELATED      float64\n",
       "DRINKING_DRIVER      float64\n",
       "UNDERAGE_DRNK_DRV    float64\n",
       "COUNTY NAME           object\n",
       "dtype: object"
      ]
     },
     "execution_count": 80,
     "metadata": {},
     "output_type": "execute_result"
    }
   ],
   "source": [
    "\n",
    "crash_2019_int[\"CRASH_MONTH\"] = crash_2019_int[\"CRASH_MONTH\"].astype(int)\n",
    "crash_2019_int.dtypes"
   ]
  },
  {
   "cell_type": "code",
   "execution_count": 67,
   "id": "8b3eb071-fcb4-4693-8437-e4fed5666e39",
   "metadata": {
    "collapsed": true,
    "jupyter": {
     "outputs_hidden": true,
     "source_hidden": true
    },
    "tags": []
   },
   "outputs": [
    {
     "data": {
      "text/plain": [
       "dtype('O')"
      ]
     },
     "execution_count": 67,
     "metadata": {},
     "output_type": "execute_result"
    }
   ],
   "source": [
    "crash_2019_df[\"CRASH_MONTH\"].dtypes"
   ]
  },
  {
   "cell_type": "code",
   "execution_count": 81,
   "id": "90b119ab-58e9-499f-929e-95c5b74d2574",
   "metadata": {
    "collapsed": true,
    "jupyter": {
     "outputs_hidden": true,
     "source_hidden": true
    },
    "tags": []
   },
   "outputs": [
    {
     "data": {
      "text/plain": [
       "CRN                    int64\n",
       "COUNTY                 int64\n",
       "CRASH_MONTH            int64\n",
       "DEC_LAT              float64\n",
       "DEC_LONG             float64\n",
       "FATAL_COUNT          float64\n",
       "ALCOHOL_RELATED      float64\n",
       "DRINKING_DRIVER      float64\n",
       "UNDERAGE_DRNK_DRV    float64\n",
       "COUNTY NAME           object\n",
       "dtype: object"
      ]
     },
     "execution_count": 81,
     "metadata": {},
     "output_type": "execute_result"
    }
   ],
   "source": [
    "crash_2019_int[\"CRASH_MONTH\"] = crash_2019_int[\"CRASH_MONTH\"].astype(int)\n",
    "crash_2019_int.dtypes"
   ]
  },
  {
   "cell_type": "code",
   "execution_count": 45,
   "id": "41160984-649a-47ba-8362-647c1363512e",
   "metadata": {
    "jupyter": {
     "source_hidden": true
    },
    "tags": []
   },
   "outputs": [],
   "source": [
    "crash_2019_df[\"CRASH_MONTH\"] = crash_2019_df[\"CRASH_MONTH\"].str.split(\".\").str[0]"
   ]
  },
  {
   "cell_type": "code",
   "execution_count": 60,
   "id": "1ddd69f2-0587-48bf-b4b6-c51906cf57e1",
   "metadata": {
    "jupyter": {
     "source_hidden": true
    },
    "tags": []
   },
   "outputs": [
    {
     "data": {
      "text/plain": [
       "9290"
      ]
     },
     "execution_count": 60,
     "metadata": {},
     "output_type": "execute_result"
    }
   ],
   "source": [
    "\n",
    "crash_2019_df[\"CRASH_MONTH\"].isna().count()"
   ]
  },
  {
   "cell_type": "code",
   "execution_count": 93,
   "id": "0143a00a-9fb2-40cd-9b40-62bca8faa856",
   "metadata": {},
   "outputs": [],
   "source": [
    "aggregate_2020 = crash_2020_df.groupby([\"COUNTY NAME\", \"CRASH_MONTH\"]).sum()"
   ]
  },
  {
   "cell_type": "code",
   "execution_count": 94,
   "id": "5ee67bb8-1f39-4595-90cd-93bc3a69ba57",
   "metadata": {},
   "outputs": [],
   "source": [
    "aggregate_2020.reset_index(inplace=True)"
   ]
  },
  {
   "cell_type": "code",
   "execution_count": 96,
   "id": "2166c283-5b83-4d7f-bb52-004b13b87273",
   "metadata": {},
   "outputs": [],
   "source": [
    "jan_jun_20 = aggregate_2020[(aggregate_2020[\"CRASH_MONTH\"] >= 1) & (aggregate_2020[\"CRASH_MONTH\"] <= 6)]"
   ]
  },
  {
   "cell_type": "code",
   "execution_count": 97,
   "id": "c0f35cc4-82ed-4f81-bb34-fe6487ac09e3",
   "metadata": {},
   "outputs": [],
   "source": [
    "#create copies to work with\n",
    "crashes_2018 = crash_2018_df.copy()\n",
    "crashes_2019 = crash_2019_int.copy()"
   ]
  },
  {
   "cell_type": "code",
   "execution_count": 103,
   "id": "dc8f66f8-3384-430f-91d5-31d753f6a96a",
   "metadata": {},
   "outputs": [],
   "source": [
    "aggregate_2019_b = crashes_2019.groupby([\"COUNTY NAME\", \"CRASH_MONTH\"]).sum()"
   ]
  },
  {
   "cell_type": "code",
   "execution_count": 104,
   "id": "5dfba4d5-0746-4d0b-b405-e4395fb3ad74",
   "metadata": {},
   "outputs": [],
   "source": [
    "aggregate_2019_b.reset_index(inplace=True)"
   ]
  },
  {
   "cell_type": "code",
   "execution_count": 106,
   "id": "a57b9b46-52ef-41b3-9d8f-e6b4afe2bad0",
   "metadata": {},
   "outputs": [],
   "source": [
    "jul_dec_19 = aggregate_2019_b[(aggregate_2019_b[\"CRASH_MONTH\"] >=7)]"
   ]
  },
  {
   "cell_type": "code",
   "execution_count": 109,
   "id": "b8182d42-3f74-486a-8183-a7fa52062928",
   "metadata": {},
   "outputs": [],
   "source": [
    "jan_jun_19 = aggregate_2019_b[(aggregate_2019_b[\"CRASH_MONTH\"] >=1) & (aggregate_2019_b[\"CRASH_MONTH\"] <= 6)]"
   ]
  },
  {
   "cell_type": "code",
   "execution_count": 111,
   "id": "a172b9cc-f1a8-475c-9b68-d0943497ef54",
   "metadata": {},
   "outputs": [],
   "source": [
    "aggregate_2018 = crashes_2018.groupby([\"COUNTY NAME\", \"CRASH_MONTH\"]).sum()"
   ]
  },
  {
   "cell_type": "code",
   "execution_count": 112,
   "id": "d7ec411f-dc2e-4176-a69b-fde7fd896960",
   "metadata": {},
   "outputs": [],
   "source": [
    "aggregate_2018.reset_index(inplace=True)"
   ]
  },
  {
   "cell_type": "code",
   "execution_count": 113,
   "id": "0880e94e-d30f-47b5-ad6f-f9ac6dd99841",
   "metadata": {},
   "outputs": [],
   "source": [
    "jul_dec_18 = aggregate_2018[(aggregate_2018[\"CRASH_MONTH\"] >=7)]"
   ]
  },
  {
   "cell_type": "code",
   "execution_count": 13,
   "id": "031dfec5-e24d-4fc3-88eb-f7b9f309f985",
   "metadata": {},
   "outputs": [
    {
     "data": {
      "text/html": [
       "<div>\n",
       "<style scoped>\n",
       "    .dataframe tbody tr th:only-of-type {\n",
       "        vertical-align: middle;\n",
       "    }\n",
       "\n",
       "    .dataframe tbody tr th {\n",
       "        vertical-align: top;\n",
       "    }\n",
       "\n",
       "    .dataframe thead th {\n",
       "        text-align: right;\n",
       "    }\n",
       "</style>\n",
       "<table border=\"1\" class=\"dataframe\">\n",
       "  <thead>\n",
       "    <tr style=\"text-align: right;\">\n",
       "      <th></th>\n",
       "      <th>CRN</th>\n",
       "      <th>COUNTY</th>\n",
       "      <th>CRASH_MONTH</th>\n",
       "      <th>DEC_LAT</th>\n",
       "      <th>DEC_LONG</th>\n",
       "      <th>FATAL_COUNT</th>\n",
       "      <th>ALCOHOL_RELATED</th>\n",
       "      <th>DRINKING_DRIVER</th>\n",
       "      <th>UNDERAGE_DRNK_DRV</th>\n",
       "      <th>COUNTY NAME</th>\n",
       "    </tr>\n",
       "  </thead>\n",
       "  <tbody>\n",
       "    <tr>\n",
       "      <th>0</th>\n",
       "      <td>2019131904</td>\n",
       "      <td>42</td>\n",
       "      <td>12</td>\n",
       "      <td>41.9904</td>\n",
       "      <td>-78.2790</td>\n",
       "      <td>0</td>\n",
       "      <td>1</td>\n",
       "      <td>1</td>\n",
       "      <td>1</td>\n",
       "      <td>MCKEAN</td>\n",
       "    </tr>\n",
       "    <tr>\n",
       "      <th>1</th>\n",
       "      <td>2020048956</td>\n",
       "      <td>39</td>\n",
       "      <td>5</td>\n",
       "      <td>40.5601</td>\n",
       "      <td>-75.4446</td>\n",
       "      <td>0</td>\n",
       "      <td>1</td>\n",
       "      <td>1</td>\n",
       "      <td>0</td>\n",
       "      <td>LEHIGH</td>\n",
       "    </tr>\n",
       "    <tr>\n",
       "      <th>2</th>\n",
       "      <td>2018124693</td>\n",
       "      <td>10</td>\n",
       "      <td>10</td>\n",
       "      <td>41.1393</td>\n",
       "      <td>-79.7424</td>\n",
       "      <td>0</td>\n",
       "      <td>1</td>\n",
       "      <td>1</td>\n",
       "      <td>0</td>\n",
       "      <td>BUTLER</td>\n",
       "    </tr>\n",
       "    <tr>\n",
       "      <th>3</th>\n",
       "      <td>2018000024</td>\n",
       "      <td>9</td>\n",
       "      <td>1</td>\n",
       "      <td>40.2229</td>\n",
       "      <td>-75.0711</td>\n",
       "      <td>0</td>\n",
       "      <td>1</td>\n",
       "      <td>1</td>\n",
       "      <td>0</td>\n",
       "      <td>BUCKS</td>\n",
       "    </tr>\n",
       "    <tr>\n",
       "      <th>4</th>\n",
       "      <td>2018000006</td>\n",
       "      <td>64</td>\n",
       "      <td>1</td>\n",
       "      <td>40.3036</td>\n",
       "      <td>-79.7402</td>\n",
       "      <td>0</td>\n",
       "      <td>1</td>\n",
       "      <td>1</td>\n",
       "      <td>0</td>\n",
       "      <td>WESTMORELAND</td>\n",
       "    </tr>\n",
       "  </tbody>\n",
       "</table>\n",
       "</div>"
      ],
      "text/plain": [
       "          CRN  COUNTY  CRASH_MONTH  DEC_LAT  DEC_LONG  FATAL_COUNT  \\\n",
       "0  2019131904      42           12  41.9904  -78.2790            0   \n",
       "1  2020048956      39            5  40.5601  -75.4446            0   \n",
       "2  2018124693      10           10  41.1393  -79.7424            0   \n",
       "3  2018000024       9            1  40.2229  -75.0711            0   \n",
       "4  2018000006      64            1  40.3036  -79.7402            0   \n",
       "\n",
       "   ALCOHOL_RELATED  DRINKING_DRIVER  UNDERAGE_DRNK_DRV   COUNTY NAME  \n",
       "0                1                1                  1        MCKEAN  \n",
       "1                1                1                  0        LEHIGH  \n",
       "2                1                1                  0        BUTLER  \n",
       "3                1                1                  0         BUCKS  \n",
       "4                1                1                  0  WESTMORELAND  "
      ]
     },
     "execution_count": 13,
     "metadata": {},
     "output_type": "execute_result"
    }
   ],
   "source": [
    "#read in csv data on alcohol related crashes in PA in 2018\n",
    "crash_2018_df = pd.read_csv(\"dui_201_csv\")"
   ]
  },
  {
   "cell_type": "code",
   "execution_count": 14,
   "id": "f47912ec-819c-4825-9b37-7d4979a26f3b",
   "metadata": {},
   "outputs": [],
   "source": [
    "crash_2018_df[].fillna(0,inplace=True)"
   ]
  },
  {
   "cell_type": "code",
   "execution_count": 117,
   "id": "c77065f7-a6d8-459f-bd4c-89fbf411a0e9",
   "metadata": {},
   "outputs": [
    {
     "data": {
      "text/html": [
       "<div>\n",
       "<style scoped>\n",
       "    .dataframe tbody tr th:only-of-type {\n",
       "        vertical-align: middle;\n",
       "    }\n",
       "\n",
       "    .dataframe tbody tr th {\n",
       "        vertical-align: top;\n",
       "    }\n",
       "\n",
       "    .dataframe thead th {\n",
       "        text-align: right;\n",
       "    }\n",
       "</style>\n",
       "<table border=\"1\" class=\"dataframe\">\n",
       "  <thead>\n",
       "    <tr style=\"text-align: right;\">\n",
       "      <th></th>\n",
       "      <th>COUNTY NAME</th>\n",
       "      <th>CRASH_MONTH</th>\n",
       "      <th>CRN</th>\n",
       "      <th>COUNTY</th>\n",
       "      <th>DEC_LAT</th>\n",
       "      <th>DEC_LONG</th>\n",
       "      <th>FATAL_COUNT</th>\n",
       "      <th>ALCOHOL_RELATED</th>\n",
       "      <th>DRINKING_DRIVER</th>\n",
       "      <th>UNDERAGE_DRNK_DRV</th>\n",
       "    </tr>\n",
       "  </thead>\n",
       "  <tbody>\n",
       "    <tr>\n",
       "      <th>6</th>\n",
       "      <td>ADAMS</td>\n",
       "      <td>7</td>\n",
       "      <td>6054232448</td>\n",
       "      <td>3</td>\n",
       "      <td>119.6197</td>\n",
       "      <td>-231.6042</td>\n",
       "      <td>0.0</td>\n",
       "      <td>3.0</td>\n",
       "      <td>3.0</td>\n",
       "      <td>0.0</td>\n",
       "    </tr>\n",
       "    <tr>\n",
       "      <th>7</th>\n",
       "      <td>ADAMS</td>\n",
       "      <td>8</td>\n",
       "      <td>18162840184</td>\n",
       "      <td>9</td>\n",
       "      <td>358.8495</td>\n",
       "      <td>-694.9737</td>\n",
       "      <td>0.0</td>\n",
       "      <td>9.0</td>\n",
       "      <td>9.0</td>\n",
       "      <td>0.0</td>\n",
       "    </tr>\n",
       "    <tr>\n",
       "      <th>8</th>\n",
       "      <td>ADAMS</td>\n",
       "      <td>9</td>\n",
       "      <td>12108567938</td>\n",
       "      <td>6</td>\n",
       "      <td>239.1637</td>\n",
       "      <td>-462.8862</td>\n",
       "      <td>0.0</td>\n",
       "      <td>6.0</td>\n",
       "      <td>6.0</td>\n",
       "      <td>0.0</td>\n",
       "    </tr>\n",
       "    <tr>\n",
       "      <th>9</th>\n",
       "      <td>ADAMS</td>\n",
       "      <td>10</td>\n",
       "      <td>22199221967</td>\n",
       "      <td>11</td>\n",
       "      <td>437.8259</td>\n",
       "      <td>-848.9125</td>\n",
       "      <td>1.0</td>\n",
       "      <td>11.0</td>\n",
       "      <td>11.0</td>\n",
       "      <td>1.0</td>\n",
       "    </tr>\n",
       "    <tr>\n",
       "      <th>10</th>\n",
       "      <td>ADAMS</td>\n",
       "      <td>11</td>\n",
       "      <td>18163995810</td>\n",
       "      <td>9</td>\n",
       "      <td>358.7957</td>\n",
       "      <td>-693.8644</td>\n",
       "      <td>0.0</td>\n",
       "      <td>9.0</td>\n",
       "      <td>9.0</td>\n",
       "      <td>0.0</td>\n",
       "    </tr>\n",
       "    <tr>\n",
       "      <th>...</th>\n",
       "      <td>...</td>\n",
       "      <td>...</td>\n",
       "      <td>...</td>\n",
       "      <td>...</td>\n",
       "      <td>...</td>\n",
       "      <td>...</td>\n",
       "      <td>...</td>\n",
       "      <td>...</td>\n",
       "      <td>...</td>\n",
       "      <td>...</td>\n",
       "    </tr>\n",
       "    <tr>\n",
       "      <th>742</th>\n",
       "      <td>YORK</td>\n",
       "      <td>2</td>\n",
       "      <td>56532711710</td>\n",
       "      <td>1848</td>\n",
       "      <td>1120.1279</td>\n",
       "      <td>-2149.8112</td>\n",
       "      <td>0.0</td>\n",
       "      <td>28.0</td>\n",
       "      <td>28.0</td>\n",
       "      <td>2.0</td>\n",
       "    </tr>\n",
       "    <tr>\n",
       "      <th>743</th>\n",
       "      <td>YORK</td>\n",
       "      <td>3</td>\n",
       "      <td>98932738232</td>\n",
       "      <td>3234</td>\n",
       "      <td>1955.9023</td>\n",
       "      <td>-3761.8268</td>\n",
       "      <td>1.0</td>\n",
       "      <td>49.0</td>\n",
       "      <td>49.0</td>\n",
       "      <td>2.0</td>\n",
       "    </tr>\n",
       "    <tr>\n",
       "      <th>744</th>\n",
       "      <td>YORK</td>\n",
       "      <td>4</td>\n",
       "      <td>82780821742</td>\n",
       "      <td>2706</td>\n",
       "      <td>1637.0783</td>\n",
       "      <td>-3144.3070</td>\n",
       "      <td>0.0</td>\n",
       "      <td>41.0</td>\n",
       "      <td>40.0</td>\n",
       "      <td>2.0</td>\n",
       "    </tr>\n",
       "    <tr>\n",
       "      <th>745</th>\n",
       "      <td>YORK</td>\n",
       "      <td>5</td>\n",
       "      <td>62590767904</td>\n",
       "      <td>2046</td>\n",
       "      <td>1238.3904</td>\n",
       "      <td>-2378.4674</td>\n",
       "      <td>0.0</td>\n",
       "      <td>31.0</td>\n",
       "      <td>30.0</td>\n",
       "      <td>4.0</td>\n",
       "    </tr>\n",
       "    <tr>\n",
       "      <th>746</th>\n",
       "      <td>YORK</td>\n",
       "      <td>6</td>\n",
       "      <td>66629270444</td>\n",
       "      <td>2178</td>\n",
       "      <td>1318.8269</td>\n",
       "      <td>-2533.2462</td>\n",
       "      <td>2.0</td>\n",
       "      <td>33.0</td>\n",
       "      <td>31.0</td>\n",
       "      <td>3.0</td>\n",
       "    </tr>\n",
       "  </tbody>\n",
       "</table>\n",
       "<p>757 rows × 10 columns</p>\n",
       "</div>"
      ],
      "text/plain": [
       "    COUNTY NAME  CRASH_MONTH          CRN  COUNTY    DEC_LAT   DEC_LONG  \\\n",
       "6         ADAMS            7   6054232448       3   119.6197  -231.6042   \n",
       "7         ADAMS            8  18162840184       9   358.8495  -694.9737   \n",
       "8         ADAMS            9  12108567938       6   239.1637  -462.8862   \n",
       "9         ADAMS           10  22199221967      11   437.8259  -848.9125   \n",
       "10        ADAMS           11  18163995810       9   358.7957  -693.8644   \n",
       "..          ...          ...          ...     ...        ...        ...   \n",
       "742        YORK            2  56532711710    1848  1120.1279 -2149.8112   \n",
       "743        YORK            3  98932738232    3234  1955.9023 -3761.8268   \n",
       "744        YORK            4  82780821742    2706  1637.0783 -3144.3070   \n",
       "745        YORK            5  62590767904    2046  1238.3904 -2378.4674   \n",
       "746        YORK            6  66629270444    2178  1318.8269 -2533.2462   \n",
       "\n",
       "     FATAL_COUNT  ALCOHOL_RELATED  DRINKING_DRIVER  UNDERAGE_DRNK_DRV  \n",
       "6            0.0              3.0              3.0                0.0  \n",
       "7            0.0              9.0              9.0                0.0  \n",
       "8            0.0              6.0              6.0                0.0  \n",
       "9            1.0             11.0             11.0                1.0  \n",
       "10           0.0              9.0              9.0                0.0  \n",
       "..           ...              ...              ...                ...  \n",
       "742          0.0             28.0             28.0                2.0  \n",
       "743          1.0             49.0             49.0                2.0  \n",
       "744          0.0             41.0             40.0                2.0  \n",
       "745          0.0             31.0             30.0                4.0  \n",
       "746          2.0             33.0             31.0                3.0  \n",
       "\n",
       "[757 rows x 10 columns]"
      ]
     },
     "execution_count": 117,
     "metadata": {},
     "output_type": "execute_result"
    }
   ],
   "source": [
    "fiscal_18_19 = pd.concat([jul_dec_18, jan_jun_19])\n",
    "fiscal_18_19"
   ]
  },
  {
   "cell_type": "code",
   "execution_count": 118,
   "id": "3062db13-22a3-4b23-9cf5-d899654b2f4d",
   "metadata": {},
   "outputs": [
    {
     "data": {
      "text/html": [
       "<div>\n",
       "<style scoped>\n",
       "    .dataframe tbody tr th:only-of-type {\n",
       "        vertical-align: middle;\n",
       "    }\n",
       "\n",
       "    .dataframe tbody tr th {\n",
       "        vertical-align: top;\n",
       "    }\n",
       "\n",
       "    .dataframe thead th {\n",
       "        text-align: right;\n",
       "    }\n",
       "</style>\n",
       "<table border=\"1\" class=\"dataframe\">\n",
       "  <thead>\n",
       "    <tr style=\"text-align: right;\">\n",
       "      <th></th>\n",
       "      <th>COUNTY NAME</th>\n",
       "      <th>CRASH_MONTH</th>\n",
       "      <th>CRN</th>\n",
       "      <th>COUNTY</th>\n",
       "      <th>DEC_LAT</th>\n",
       "      <th>DEC_LONG</th>\n",
       "      <th>FATAL_COUNT</th>\n",
       "      <th>ALCOHOL_RELATED</th>\n",
       "      <th>DRINKING_DRIVER</th>\n",
       "      <th>UNDERAGE_DRNK_DRV</th>\n",
       "    </tr>\n",
       "  </thead>\n",
       "  <tbody>\n",
       "    <tr>\n",
       "      <th>6</th>\n",
       "      <td>ADAMS</td>\n",
       "      <td>7</td>\n",
       "      <td>14133542033</td>\n",
       "      <td>7</td>\n",
       "      <td>279.0975</td>\n",
       "      <td>-540.4810</td>\n",
       "      <td>0.0</td>\n",
       "      <td>7.0</td>\n",
       "      <td>7.0</td>\n",
       "      <td>1.0</td>\n",
       "    </tr>\n",
       "    <tr>\n",
       "      <th>7</th>\n",
       "      <td>ADAMS</td>\n",
       "      <td>8</td>\n",
       "      <td>6057268056</td>\n",
       "      <td>3</td>\n",
       "      <td>119.3747</td>\n",
       "      <td>-231.7026</td>\n",
       "      <td>0.0</td>\n",
       "      <td>3.0</td>\n",
       "      <td>3.0</td>\n",
       "      <td>0.0</td>\n",
       "    </tr>\n",
       "    <tr>\n",
       "      <th>8</th>\n",
       "      <td>ADAMS</td>\n",
       "      <td>9</td>\n",
       "      <td>6057287220</td>\n",
       "      <td>3</td>\n",
       "      <td>119.6195</td>\n",
       "      <td>-231.7942</td>\n",
       "      <td>0.0</td>\n",
       "      <td>3.0</td>\n",
       "      <td>3.0</td>\n",
       "      <td>0.0</td>\n",
       "    </tr>\n",
       "    <tr>\n",
       "      <th>9</th>\n",
       "      <td>ADAMS</td>\n",
       "      <td>10</td>\n",
       "      <td>8076422240</td>\n",
       "      <td>4</td>\n",
       "      <td>159.7113</td>\n",
       "      <td>-308.1973</td>\n",
       "      <td>0.0</td>\n",
       "      <td>4.0</td>\n",
       "      <td>4.0</td>\n",
       "      <td>0.0</td>\n",
       "    </tr>\n",
       "    <tr>\n",
       "      <th>10</th>\n",
       "      <td>ADAMS</td>\n",
       "      <td>11</td>\n",
       "      <td>24229473039</td>\n",
       "      <td>12</td>\n",
       "      <td>478.5469</td>\n",
       "      <td>-926.5061</td>\n",
       "      <td>0.0</td>\n",
       "      <td>12.0</td>\n",
       "      <td>12.0</td>\n",
       "      <td>1.0</td>\n",
       "    </tr>\n",
       "    <tr>\n",
       "      <th>...</th>\n",
       "      <td>...</td>\n",
       "      <td>...</td>\n",
       "      <td>...</td>\n",
       "      <td>...</td>\n",
       "      <td>...</td>\n",
       "      <td>...</td>\n",
       "      <td>...</td>\n",
       "      <td>...</td>\n",
       "      <td>...</td>\n",
       "      <td>...</td>\n",
       "    </tr>\n",
       "    <tr>\n",
       "      <th>710</th>\n",
       "      <td>YORK</td>\n",
       "      <td>2</td>\n",
       "      <td>40400431159</td>\n",
       "      <td>1320</td>\n",
       "      <td>799.7893</td>\n",
       "      <td>-1535.4961</td>\n",
       "      <td>0.0</td>\n",
       "      <td>20.0</td>\n",
       "      <td>20.0</td>\n",
       "      <td>1.0</td>\n",
       "    </tr>\n",
       "    <tr>\n",
       "      <th>711</th>\n",
       "      <td>YORK</td>\n",
       "      <td>3</td>\n",
       "      <td>40400597645</td>\n",
       "      <td>1320</td>\n",
       "      <td>799.2096</td>\n",
       "      <td>-1534.2619</td>\n",
       "      <td>0.0</td>\n",
       "      <td>20.0</td>\n",
       "      <td>19.0</td>\n",
       "      <td>0.0</td>\n",
       "    </tr>\n",
       "    <tr>\n",
       "      <th>712</th>\n",
       "      <td>YORK</td>\n",
       "      <td>4</td>\n",
       "      <td>28280541877</td>\n",
       "      <td>924</td>\n",
       "      <td>558.4227</td>\n",
       "      <td>-1073.9749</td>\n",
       "      <td>2.0</td>\n",
       "      <td>14.0</td>\n",
       "      <td>14.0</td>\n",
       "      <td>2.0</td>\n",
       "    </tr>\n",
       "    <tr>\n",
       "      <th>713</th>\n",
       "      <td>YORK</td>\n",
       "      <td>5</td>\n",
       "      <td>32320710103</td>\n",
       "      <td>1056</td>\n",
       "      <td>639.4371</td>\n",
       "      <td>-1227.2777</td>\n",
       "      <td>0.0</td>\n",
       "      <td>16.0</td>\n",
       "      <td>16.0</td>\n",
       "      <td>1.0</td>\n",
       "    </tr>\n",
       "    <tr>\n",
       "      <th>714</th>\n",
       "      <td>YORK</td>\n",
       "      <td>6</td>\n",
       "      <td>54541433297</td>\n",
       "      <td>1782</td>\n",
       "      <td>1078.1372</td>\n",
       "      <td>-2071.6994</td>\n",
       "      <td>2.0</td>\n",
       "      <td>27.0</td>\n",
       "      <td>27.0</td>\n",
       "      <td>0.0</td>\n",
       "    </tr>\n",
       "  </tbody>\n",
       "</table>\n",
       "<p>733 rows × 10 columns</p>\n",
       "</div>"
      ],
      "text/plain": [
       "    COUNTY NAME  CRASH_MONTH          CRN  COUNTY    DEC_LAT   DEC_LONG  \\\n",
       "6         ADAMS            7  14133542033       7   279.0975  -540.4810   \n",
       "7         ADAMS            8   6057268056       3   119.3747  -231.7026   \n",
       "8         ADAMS            9   6057287220       3   119.6195  -231.7942   \n",
       "9         ADAMS           10   8076422240       4   159.7113  -308.1973   \n",
       "10        ADAMS           11  24229473039      12   478.5469  -926.5061   \n",
       "..          ...          ...          ...     ...        ...        ...   \n",
       "710        YORK            2  40400431159    1320   799.7893 -1535.4961   \n",
       "711        YORK            3  40400597645    1320   799.2096 -1534.2619   \n",
       "712        YORK            4  28280541877     924   558.4227 -1073.9749   \n",
       "713        YORK            5  32320710103    1056   639.4371 -1227.2777   \n",
       "714        YORK            6  54541433297    1782  1078.1372 -2071.6994   \n",
       "\n",
       "     FATAL_COUNT  ALCOHOL_RELATED  DRINKING_DRIVER  UNDERAGE_DRNK_DRV  \n",
       "6            0.0              7.0              7.0                1.0  \n",
       "7            0.0              3.0              3.0                0.0  \n",
       "8            0.0              3.0              3.0                0.0  \n",
       "9            0.0              4.0              4.0                0.0  \n",
       "10           0.0             12.0             12.0                1.0  \n",
       "..           ...              ...              ...                ...  \n",
       "710          0.0             20.0             20.0                1.0  \n",
       "711          0.0             20.0             19.0                0.0  \n",
       "712          2.0             14.0             14.0                2.0  \n",
       "713          0.0             16.0             16.0                1.0  \n",
       "714          2.0             27.0             27.0                0.0  \n",
       "\n",
       "[733 rows x 10 columns]"
      ]
     },
     "execution_count": 118,
     "metadata": {},
     "output_type": "execute_result"
    }
   ],
   "source": [
    "fiscal_19_20 = pd.concat([jul_dec_19, jan_jun_20])\n",
    "fiscal_19_20"
   ]
  },
  {
   "cell_type": "code",
   "execution_count": 7,
   "id": "dc9b7fd1-32e7-47d2-85bd-c943e0bd70e2",
   "metadata": {
    "jupyter": {
     "source_hidden": true
    },
    "tags": []
   },
   "outputs": [],
   "source": [
    "# read in the dropout data to a dataframe\n",
    "dropouts_df = pd.read_csv(\"../Dropout_data/Dropouts2019-2020_cleaned.csv\")"
   ]
  },
  {
   "cell_type": "code",
   "execution_count": 8,
   "id": "a7a44067-7272-4c1d-99e2-110bbb583a46",
   "metadata": {
    "collapsed": true,
    "jupyter": {
     "outputs_hidden": true,
     "source_hidden": true
    },
    "tags": []
   },
   "outputs": [
    {
     "data": {
      "text/html": [
       "<div>\n",
       "<style scoped>\n",
       "    .dataframe tbody tr th:only-of-type {\n",
       "        vertical-align: middle;\n",
       "    }\n",
       "\n",
       "    .dataframe tbody tr th {\n",
       "        vertical-align: top;\n",
       "    }\n",
       "\n",
       "    .dataframe thead th {\n",
       "        text-align: right;\n",
       "    }\n",
       "</style>\n",
       "<table border=\"1\" class=\"dataframe\">\n",
       "  <thead>\n",
       "    <tr style=\"text-align: right;\">\n",
       "      <th></th>\n",
       "      <th>County</th>\n",
       "      <th>AUN</th>\n",
       "      <th>LEA</th>\n",
       "      <th>School Code</th>\n",
       "      <th>School</th>\n",
       "      <th>Oct 1 Enrollment Grades 7-12</th>\n",
       "      <th>Male Dropouts</th>\n",
       "      <th>Female Dropouts</th>\n",
       "      <th>Dropouts</th>\n",
       "      <th>Dropout Rate</th>\n",
       "    </tr>\n",
       "  </thead>\n",
       "  <tbody>\n",
       "    <tr>\n",
       "      <th>0</th>\n",
       "      <td>Adams</td>\n",
       "      <td>112011103.0</td>\n",
       "      <td>Bermudian Springs SD</td>\n",
       "      <td>3.0</td>\n",
       "      <td>Bermudian Springs HS</td>\n",
       "      <td>597</td>\n",
       "      <td>2</td>\n",
       "      <td>3</td>\n",
       "      <td>5</td>\n",
       "      <td>0.84%</td>\n",
       "    </tr>\n",
       "    <tr>\n",
       "      <th>1</th>\n",
       "      <td>Adams</td>\n",
       "      <td>112011103.0</td>\n",
       "      <td>Bermudian Springs SD</td>\n",
       "      <td>6921.0</td>\n",
       "      <td>Bermudian Springs MS</td>\n",
       "      <td>323</td>\n",
       "      <td>0</td>\n",
       "      <td>0</td>\n",
       "      <td>0</td>\n",
       "      <td>0.00%</td>\n",
       "    </tr>\n",
       "    <tr>\n",
       "      <th>2</th>\n",
       "      <td>Adams</td>\n",
       "      <td>112011603.0</td>\n",
       "      <td>Conewago Valley SD</td>\n",
       "      <td>9999.0</td>\n",
       "      <td>Conewago Valley SD</td>\n",
       "      <td>12</td>\n",
       "      <td>1</td>\n",
       "      <td>0</td>\n",
       "      <td>1</td>\n",
       "      <td>8.33%</td>\n",
       "    </tr>\n",
       "    <tr>\n",
       "      <th>3</th>\n",
       "      <td>Adams</td>\n",
       "      <td>112011603.0</td>\n",
       "      <td>Conewago Valley SD</td>\n",
       "      <td>6898.0</td>\n",
       "      <td>New Oxford MS</td>\n",
       "      <td>634</td>\n",
       "      <td>0</td>\n",
       "      <td>0</td>\n",
       "      <td>0</td>\n",
       "      <td>0.00%</td>\n",
       "    </tr>\n",
       "    <tr>\n",
       "      <th>4</th>\n",
       "      <td>Adams</td>\n",
       "      <td>112011603.0</td>\n",
       "      <td>Conewago Valley SD</td>\n",
       "      <td>17.0</td>\n",
       "      <td>New Oxford SHS</td>\n",
       "      <td>1,227</td>\n",
       "      <td>13</td>\n",
       "      <td>10</td>\n",
       "      <td>23</td>\n",
       "      <td>1.87%</td>\n",
       "    </tr>\n",
       "  </tbody>\n",
       "</table>\n",
       "</div>"
      ],
      "text/plain": [
       "  County          AUN                   LEA  School Code  \\\n",
       "0  Adams  112011103.0  Bermudian Springs SD          3.0   \n",
       "1  Adams  112011103.0  Bermudian Springs SD       6921.0   \n",
       "2  Adams  112011603.0    Conewago Valley SD       9999.0   \n",
       "3  Adams  112011603.0    Conewago Valley SD       6898.0   \n",
       "4  Adams  112011603.0    Conewago Valley SD         17.0   \n",
       "\n",
       "                 School Oct 1 Enrollment Grades 7-12 Male Dropouts  \\\n",
       "0  Bermudian Springs HS                          597             2   \n",
       "1  Bermudian Springs MS                          323             0   \n",
       "2    Conewago Valley SD                           12             1   \n",
       "3         New Oxford MS                          634             0   \n",
       "4        New Oxford SHS                        1,227            13   \n",
       "\n",
       "  Female Dropouts Dropouts Dropout Rate  \n",
       "0               3        5        0.84%  \n",
       "1               0        0        0.00%  \n",
       "2               0        1        8.33%  \n",
       "3               0        0        0.00%  \n",
       "4              10       23        1.87%  "
      ]
     },
     "execution_count": 8,
     "metadata": {},
     "output_type": "execute_result"
    }
   ],
   "source": [
    "dropouts_df.head()"
   ]
  },
  {
   "cell_type": "code",
   "execution_count": 9,
   "id": "3fd932e9-6e9a-4962-90a2-eab6ba024e3c",
   "metadata": {},
   "outputs": [],
   "source": [
    "alcohol_sales_df = pd.read_csv(\"../Data Sources/compiled_sales_2018_to_2020.csv\")"
   ]
  },
  {
   "cell_type": "code",
   "execution_count": 114,
   "id": "078c9922-b43a-4ccd-8adb-f8dbfa55d6e2",
   "metadata": {},
   "outputs": [
    {
     "data": {
      "text/html": [
       "<div>\n",
       "<style scoped>\n",
       "    .dataframe tbody tr th:only-of-type {\n",
       "        vertical-align: middle;\n",
       "    }\n",
       "\n",
       "    .dataframe tbody tr th {\n",
       "        vertical-align: top;\n",
       "    }\n",
       "\n",
       "    .dataframe thead th {\n",
       "        text-align: right;\n",
       "    }\n",
       "</style>\n",
       "<table border=\"1\" class=\"dataframe\">\n",
       "  <thead>\n",
       "    <tr style=\"text-align: right;\">\n",
       "      <th></th>\n",
       "      <th>County</th>\n",
       "      <th>2017-2018 Year Total ($)</th>\n",
       "      <th>2018-2019 Year Total ($)</th>\n",
       "      <th>2019-2020 Year Total ($)</th>\n",
       "    </tr>\n",
       "  </thead>\n",
       "  <tbody>\n",
       "    <tr>\n",
       "      <th>0</th>\n",
       "      <td>Adams</td>\n",
       "      <td>5974649.0</td>\n",
       "      <td>6087119.0</td>\n",
       "      <td>5474672.0</td>\n",
       "    </tr>\n",
       "    <tr>\n",
       "      <th>1</th>\n",
       "      <td>Allegheny</td>\n",
       "      <td>287446445.0</td>\n",
       "      <td>297562217.0</td>\n",
       "      <td>282457996.0</td>\n",
       "    </tr>\n",
       "    <tr>\n",
       "      <th>2</th>\n",
       "      <td>Armstrong</td>\n",
       "      <td>4119789.0</td>\n",
       "      <td>4100004.0</td>\n",
       "      <td>3946644.0</td>\n",
       "    </tr>\n",
       "    <tr>\n",
       "      <th>3</th>\n",
       "      <td>Beaver</td>\n",
       "      <td>20662151.0</td>\n",
       "      <td>21929547.0</td>\n",
       "      <td>21044165.0</td>\n",
       "    </tr>\n",
       "    <tr>\n",
       "      <th>4</th>\n",
       "      <td>Bedford</td>\n",
       "      <td>3794119.0</td>\n",
       "      <td>3777616.0</td>\n",
       "      <td>3624763.0</td>\n",
       "    </tr>\n",
       "  </tbody>\n",
       "</table>\n",
       "</div>"
      ],
      "text/plain": [
       "      County  2017-2018 Year Total ($)  2018-2019 Year Total ($)  \\\n",
       "0      Adams                 5974649.0                 6087119.0   \n",
       "1  Allegheny               287446445.0               297562217.0   \n",
       "2  Armstrong                 4119789.0                 4100004.0   \n",
       "3     Beaver                20662151.0                21929547.0   \n",
       "4    Bedford                 3794119.0                 3777616.0   \n",
       "\n",
       "   2019-2020 Year Total ($)  \n",
       "0                 5474672.0  \n",
       "1               282457996.0  \n",
       "2                 3946644.0  \n",
       "3                21044165.0  \n",
       "4                 3624763.0  "
      ]
     },
     "execution_count": 114,
     "metadata": {},
     "output_type": "execute_result"
    }
   ],
   "source": [
    "alcohol_sales_df.head()"
   ]
  },
  {
   "cell_type": "code",
   "execution_count": 131,
   "id": "3bb9d8bb-44a5-4ad8-858e-f1409dbefe73",
   "metadata": {},
   "outputs": [
    {
     "data": {
      "text/plain": [
       "County\n",
       "Adams             6087119.0\n",
       "Allegheny       297562217.0\n",
       "Armstrong         4100004.0\n",
       "Beaver           21929547.0\n",
       "Bedford           3777616.0\n",
       "                   ...     \n",
       "Washington       32219420.0\n",
       "Wayne            12861710.0\n",
       "Westmoreland     63286292.0\n",
       "Wyoming           2920391.0\n",
       "York             61521893.0\n",
       "Name: 2018-2019 Year Total ($), Length: 67, dtype: float64"
      ]
     },
     "execution_count": 131,
     "metadata": {},
     "output_type": "execute_result"
    }
   ],
   "source": [
    "\n",
    "# find totals\n",
    "\n",
    "total_18_19 = fiscal_18_19.groupby(\"COUNTY NAME\").sum()[\"ALCOHOL_RELATED\"]\n",
    "\n",
    "sales_18_19 = alcohol_sales_df.groupby(\"County\").mean()[\"2018-2019 Year Total ($)\"]\n",
    "sales_18_19"
   ]
  },
  {
   "cell_type": "code",
   "execution_count": 158,
   "id": "8ec72a22-bb40-47aa-9da5-19bf25c84826",
   "metadata": {},
   "outputs": [
    {
     "name": "stdout",
     "output_type": "stream",
     "text": [
      "For 2018-19 dui crashes and alcohol sales the Pearson r value is 0.9366404960132564 and the Pearson p value is 2.5663349127281006e-31\n",
      "The 2018-19 r-squared value is 0.8772954187719589\n"
     ]
    },
    {
     "data": {
      "text/plain": [
       "COUNTY NAME\n",
       "ADAMS           1.492139e+07\n",
       "ALLEGHENY       2.955407e+08\n",
       "ARMSTRONG       1.310312e+07\n",
       "BEAVER          3.189189e+07\n",
       "BEDFORD         6.436140e+06\n",
       "                    ...     \n",
       "WASHINGTON      5.068066e+07\n",
       "WAYNE           2.496560e+06\n",
       "WESTMORELAND    8.553079e+07\n",
       "WYOMING        -8.369314e+05\n",
       "YORK            1.179566e+08\n",
       "Name: ALCOHOL_RELATED, Length: 67, dtype: float64"
      ]
     },
     "execution_count": 158,
     "metadata": {},
     "output_type": "execute_result"
    }
   ],
   "source": [
    "#calculate linear regression for 2018-219 dui crashes and alcohol sales\n",
    "pearson_18_19 = st.pearsonr(total_18_19,sales_18_19)\n",
    "print(f\"For 2018-19 dui crashes and alcohol sales the Pearson r value is {pearson_18_19[0]} and the Pearson p value is {pearson_18_19[1]}\")\n",
    "print(f\"The 2018-19 r-squared value is {pearson_18_19[0]*pearson_18_19[0]}\")\n",
    "\n",
    "(slope_18_19, intercept_18_19, rvalue_18_19, pvalue_18_19, stderr_18_19) = linregress(total_18_19,sales_18_19)\n",
    "\n",
    "regress_values_18_19 = (total_18_19 * slope_18_19 + intercept_18_19)\n",
    "\n",
    "equation_18_19 = \"y = \"+str(round(slope_18_19,2))+\"x+\" +str(round(intercept_18_19,2))\n",
    "\n",
    "regress_values_18_19"
   ]
  },
  {
   "cell_type": "code",
   "execution_count": 153,
   "id": "5243049d-3981-457c-8ffb-c9c89caa3ed5",
   "metadata": {},
   "outputs": [
    {
     "data": {
      "image/png": "[encoded data removed]",
      "text/plain": [
       "<Figure size 432x288 with 1 Axes>"
      ]
     },
     "metadata": {
      "needs_background": "light"
     },
     "output_type": "display_data"
    }
   ],
   "source": [
    "\n",
    "#create a scatter plot\n",
    "\n",
    "plt.scatter(total_18_19 , sales_18_19)\n",
    "plt.xlabel(\"Alcohol Related Crashes\")\n",
    "plt.ylabel(\"Alcohol Sales\")\n",
    "plt.title(\"Alcohol Related Crashes vs Alcohol Sales by County for 2018-2019 Fiscal Year\")\n",
    "plt.plot(total_18_19, regress_values_18_19, \"r-\")\n",
    "#plt.annotate(equation_18_19,(3,3),color=\"r\")\n",
    "plt.show()"
   ]
  },
  {
   "cell_type": "code",
   "execution_count": 134,
   "id": "d2827fd2-c9fe-47cf-8ae0-092da5f77c55",
   "metadata": {},
   "outputs": [],
   "source": [
    "# find totals\n",
    "\n",
    "total_19_20 = fiscal_19_20.groupby(\"COUNTY NAME\").sum()[\"ALCOHOL_RELATED\"]\n",
    "\n",
    "sales_19_20 = alcohol_sales_df.groupby(\"County\").mean()[\"2019-2020 Year Total ($)\"]"
   ]
  },
  {
   "cell_type": "code",
   "execution_count": 159,
   "id": "a564937c-fb22-4c4d-96c5-81b24d2e2ceb",
   "metadata": {},
   "outputs": [
    {
     "name": "stdout",
     "output_type": "stream",
     "text": [
      "For 2019-20 dui crashes and alcohol sales the Pearson r value is 0.9539609058481805 and the Pearson p value is 1.0472004734032858e-35\n",
      "The 2019-20 r-squared value is 0.9100414098866811\n"
     ]
    },
    {
     "data": {
      "text/plain": [
       "COUNTY NAME\n",
       "ADAMS           1.195280e+07\n",
       "ALLEGHENY       2.784279e+08\n",
       "ARMSTRONG       9.090900e+06\n",
       "BEAVER          2.658032e+07\n",
       "BEDFORD         1.871970e+05\n",
       "                    ...     \n",
       "WASHINGTON      5.170148e+07\n",
       "WAYNE           2.095133e+06\n",
       "WESTMORELAND    7.332476e+07\n",
       "WYOMING        -2.038729e+06\n",
       "YORK            8.731629e+07\n",
       "Name: ALCOHOL_RELATED, Length: 67, dtype: float64"
      ]
     },
     "execution_count": 159,
     "metadata": {},
     "output_type": "execute_result"
    }
   ],
   "source": [
    "#calculate linear regression for 2019-20 dui crashes and alcohol sales\n",
    "pearson_19_20 = st.pearsonr(total_19_20,sales_19_20)\n",
    "print(f\"For 2019-20 dui crashes and alcohol sales the Pearson r value is {pearson_19_20[0]} and the Pearson p value is {pearson_19_20[1]}\")\n",
    "print(f\"The 2019-20 r-squared value is {pearson_19_20[0]*pearson_19_20[0]}\")\n",
    "\n",
    "(slope_19_20, intercept_19_20, rvalue_19_20, pvalue_19_20, stderr_19_20) = linregress(total_19_20,sales_19_20)\n",
    "\n",
    "regress_values_19_20 = (total_19_20 * slope_19_20 + intercept_19_20)\n",
    "\n",
    "equation_19_20 = \"y = \"+str(round(slope_19_20,2))+\"x+\" +str(round(intercept_19_20,2))\n",
    "\n",
    "regress_values_19_20"
   ]
  },
  {
   "cell_type": "code",
   "execution_count": 156,
   "id": "0bac79b5-76ab-41b0-b3e5-976040efc80f",
   "metadata": {},
   "outputs": [
    {
     "data": {
      "image/png": "[encoded data removed]",
      "text/plain": [
       "<Figure size 432x288 with 1 Axes>"
      ]
     },
     "metadata": {
      "needs_background": "light"
     },
     "output_type": "display_data"
    }
   ],
   "source": [
    "\n",
    "#create a scatter plot\n",
    "\n",
    "plt.scatter(total_19_20 , sales_19_20)\n",
    "plt.xlabel(\"Alcohol Related Crashes\")\n",
    "plt.ylabel(\"Alcohol Sales in $\")\n",
    "plt.title(\"Alcohol Related Crashes vs Alcohol Sales by County for 2019-2020 Fiscal Year\")\n",
    "plt.plot(total_19_20, regress_values_19_20, \"r-\")\n",
    "plt.show()"
   ]
  },
  {
   "cell_type": "code",
   "execution_count": 15,
   "id": "eed935de-c285-409f-99c0-0eb3cebb05d8",
   "metadata": {
    "jupyter": {
     "source_hidden": true
    },
    "tags": []
   },
   "outputs": [],
   "source": [
    "#create copies to work with\n",
    "crashes_2018 = crash_2018_df.copy()\n",
    "crashes_2019 = crash_2019_df.copy()\n",
    "crashes_2020 = crash_2020_df.copy()"
   ]
  },
  {
   "cell_type": "code",
   "execution_count": 18,
   "id": "348e4aa3-5ee5-40e6-a0b7-ea0889e6b219",
   "metadata": {
    "jupyter": {
     "source_hidden": true
    },
    "tags": []
   },
   "outputs": [],
   "source": [
    "July_Dec = [7,8,9,10,11,12]\n",
    "Jan_June = [1,2,3,4,5,6]"
   ]
  },
  {
   "cell_type": "code",
   "execution_count": 19,
   "id": "04f17e93-0f84-4fc2-850b-a48900d1863c",
   "metadata": {
    "jupyter": {
     "source_hidden": true
    },
    "tags": []
   },
   "outputs": [],
   "source": [
    "yr_1_july_dec = crashes_2018[crashes_2018[\"CRASH_MONTH\"].isin(July_Dec)==True]"
   ]
  },
  {
   "cell_type": "code",
   "execution_count": 22,
   "id": "a9f7e266-37f8-4a6d-822c-39e15805225b",
   "metadata": {
    "jupyter": {
     "source_hidden": true
    },
    "tags": []
   },
   "outputs": [],
   "source": [
    "yr_1_jan_jun = crashes_2019[crashes_2019[\"CRASH_MONTH\"].isin(Jan_June)==True]"
   ]
  },
  {
   "cell_type": "code",
   "execution_count": 23,
   "id": "54e03a72-4f91-463d-8845-9b97a99627e3",
   "metadata": {
    "jupyter": {
     "source_hidden": true
    },
    "tags": []
   },
   "outputs": [],
   "source": [
    "yr_2_july_dec = crashes_2019[crashes_2019[\"CRASH_MONTH\"].isin(July_Dec)==True]"
   ]
  },
  {
   "cell_type": "code",
   "execution_count": 24,
   "id": "2e74d77c-a0fe-418e-b48e-d6c34909502f",
   "metadata": {
    "jupyter": {
     "source_hidden": true
    },
    "tags": []
   },
   "outputs": [],
   "source": [
    "yr_2_jan_jun = crashes_2020[crashes_2020[\"CRASH_MONTH\"].isin(Jan_June)==True]"
   ]
  },
  {
   "cell_type": "code",
   "execution_count": 30,
   "id": "bcba0105-aa30-44c8-bf3d-7fdf7d6d5cb3",
   "metadata": {
    "jupyter": {
     "source_hidden": true
    },
    "tags": []
   },
   "outputs": [],
   "source": [
    "#merge 2018-19 data\n",
    "\n",
    "crash_1819 = pd.merge(yr_1_july_dec,yr_1_jan_jun,on=['CRN', 'COUNTY NAME', \"CRASH_MONTH\"],how='outer')"
   ]
  },
  {
   "cell_type": "code",
   "execution_count": 32,
   "id": "888ef295-2cb1-431e-908b-090965ccc7b5",
   "metadata": {
    "jupyter": {
     "source_hidden": true
    },
    "tags": []
   },
   "outputs": [],
   "source": [
    "#merge 2019-20 data\n",
    "\n",
    "crash_19_20 = pd.merge(yr_2_july_dec,yr_2_jan_jun,on=['CRN','COUNTY NAME'],how='outer')"
   ]
  }
 ],
 "metadata": {
  "kernelspec": {
   "display_name": "Python 3",
   "language": "python",
   "name": "python3"
  },
  "language_info": {
   "codemirror_mode": {
    "name": "ipython",
    "version": 3
   },
   "file_extension": ".py",
   "mimetype": "text/x-python",
   "name": "python",
   "nbconvert_exporter": "python",
   "pygments_lexer": "ipython3",
   "version": "3.7.10"
  }
 },
 "nbformat": 4,
 "nbformat_minor": 5
}
