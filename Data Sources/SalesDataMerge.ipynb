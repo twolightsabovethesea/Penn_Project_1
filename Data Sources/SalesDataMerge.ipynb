{
 "cells": [
  {
   "cell_type": "code",
   "execution_count": 1,
   "metadata": {},
   "outputs": [],
   "source": [
    "## Importing Dependencies\n",
    "import pandas as pd\n",
    "\n",
    "## Gathering input and output filepaths\n",
    "outputFile = \"compiled_sales_2018_to_2020.csv\"\n",
    "DATA20172018 = \"Sales_Data_2017_2018.csv\"\n",
    "DATA20182019 = \"Sales_Data_2018_2019.csv\"\n",
    "DATA20192020 = \"Sales_Data_2019_2020.csv\""
   ]
  },
  {
   "cell_type": "code",
   "execution_count": 2,
   "metadata": {},
   "outputs": [],
   "source": [
    "## Reading in my csvs\n",
    "Sales20172018 = pd.read_csv(DATA20172018, encoding='iso-8859-1')\n",
    "Sales20182019 = pd.read_csv(DATA20182019, encoding='iso-8859-1')\n",
    "Sales20192020 = pd.read_csv(DATA20192020, encoding='iso-8859-1')"
   ]
  },
  {
   "cell_type": "code",
   "execution_count": 3,
   "metadata": {},
   "outputs": [],
   "source": [
    "## Creating my final dataframe to be used later\n",
    "SalesTotals = pd.DataFrame({\"County\" : Sales20172018[\"COUNTY\"]})"
   ]
  },
  {
   "cell_type": "code",
   "execution_count": 4,
   "metadata": {},
   "outputs": [],
   "source": [
    "SalesTotals.set_index(\"County\", inplace = True)"
   ]
  },
  {
   "cell_type": "code",
   "execution_count": 5,
   "metadata": {},
   "outputs": [],
   "source": [
    "## The .sum function doesn't work as intended when the county names are here as you can't add a string to a float\n",
    "## So we set the index as the county name to the index so the additions work\n",
    "Sales20172018.set_index(\"COUNTY\", inplace=True)\n",
    "Sales20182019.set_index(\"COUNTY\", inplace=True)\n",
    "Sales20192020.set_index(\"COUNTY\", inplace=True)"
   ]
  },
  {
   "cell_type": "code",
   "execution_count": 6,
   "metadata": {},
   "outputs": [],
   "source": [
    "## Summing the data for each type of alcohol into a single yearly sum\n",
    "Sales20172018[\"2017-2018 Total\"] = Sales20172018.sum(axis = 1)\n",
    "Sales20182019[\"2018-2019 Total\"] = Sales20182019.sum(axis = 1)\n",
    "Sales20192020[\"2019-2020 Total\"] = Sales20192020.sum(axis = 1)"
   ]
  },
  {
   "cell_type": "code",
   "execution_count": 7,
   "metadata": {},
   "outputs": [
    {
     "data": {
      "text/plain": [
       "COUNTY\n",
       "Adams             5974649.0\n",
       "Allegheny       287446445.0\n",
       "Armstrong         4119789.0\n",
       "Beaver           20662151.0\n",
       "Bedford           3794119.0\n",
       "                   ...     \n",
       "Washington       31624485.0\n",
       "Wayne            12547260.0\n",
       "Westmoreland     62689517.0\n",
       "Wyoming           3017967.0\n",
       "York             60702860.0\n",
       "Name: 2017-2018 Total, Length: 67, dtype: float64"
      ]
     },
     "execution_count": 7,
     "metadata": {},
     "output_type": "execute_result"
    }
   ],
   "source": [
    "Sales20172018[\"2017-2018 Total\"]"
   ]
  },
  {
   "cell_type": "code",
   "execution_count": 8,
   "metadata": {
    "scrolled": true,
    "tags": []
   },
   "outputs": [],
   "source": [
    "## Adding those colunms to the final dataframe\n",
    "SalesTotals[\"2017-2018 Year Total ($)\"] = Sales20172018[\"2017-2018 Total\"]\n",
    "SalesTotals[\"2018-2019 Year Total ($)\"] = Sales20182019[\"2018-2019 Total\"]\n",
    "SalesTotals[\"2019-2020 Year Total ($)\"] = Sales20192020[\"2019-2020 Total\"]"
   ]
  },
  {
   "cell_type": "code",
   "execution_count": 9,
   "metadata": {},
   "outputs": [
    {
     "data": {
      "text/html": [
       "<div>\n",
       "<style scoped>\n",
       "    .dataframe tbody tr th:only-of-type {\n",
       "        vertical-align: middle;\n",
       "    }\n",
       "\n",
       "    .dataframe tbody tr th {\n",
       "        vertical-align: top;\n",
       "    }\n",
       "\n",
       "    .dataframe thead th {\n",
       "        text-align: right;\n",
       "    }\n",
       "</style>\n",
       "<table border=\"1\" class=\"dataframe\">\n",
       "  <thead>\n",
       "    <tr style=\"text-align: right;\">\n",
       "      <th></th>\n",
       "      <th>2017-2018 Year Total ($)</th>\n",
       "      <th>2018-2019 Year Total ($)</th>\n",
       "      <th>2019-2020 Year Total ($)</th>\n",
       "    </tr>\n",
       "    <tr>\n",
       "      <th>County</th>\n",
       "      <th></th>\n",
       "      <th></th>\n",
       "      <th></th>\n",
       "    </tr>\n",
       "  </thead>\n",
       "  <tbody>\n",
       "    <tr>\n",
       "      <th>Adams</th>\n",
       "      <td>5974649.0</td>\n",
       "      <td>6087119.0</td>\n",
       "      <td>5474672.0</td>\n",
       "    </tr>\n",
       "    <tr>\n",
       "      <th>Allegheny</th>\n",
       "      <td>287446445.0</td>\n",
       "      <td>297562217.0</td>\n",
       "      <td>282457996.0</td>\n",
       "    </tr>\n",
       "    <tr>\n",
       "      <th>Armstrong</th>\n",
       "      <td>4119789.0</td>\n",
       "      <td>4100004.0</td>\n",
       "      <td>3946644.0</td>\n",
       "    </tr>\n",
       "    <tr>\n",
       "      <th>Beaver</th>\n",
       "      <td>20662151.0</td>\n",
       "      <td>21929547.0</td>\n",
       "      <td>21044165.0</td>\n",
       "    </tr>\n",
       "    <tr>\n",
       "      <th>Bedford</th>\n",
       "      <td>3794119.0</td>\n",
       "      <td>3777616.0</td>\n",
       "      <td>3624763.0</td>\n",
       "    </tr>\n",
       "    <tr>\n",
       "      <th>...</th>\n",
       "      <td>...</td>\n",
       "      <td>...</td>\n",
       "      <td>...</td>\n",
       "    </tr>\n",
       "    <tr>\n",
       "      <th>Washington</th>\n",
       "      <td>31624485.0</td>\n",
       "      <td>32219420.0</td>\n",
       "      <td>26798762.0</td>\n",
       "    </tr>\n",
       "    <tr>\n",
       "      <th>Wayne</th>\n",
       "      <td>12547260.0</td>\n",
       "      <td>12861710.0</td>\n",
       "      <td>12246352.0</td>\n",
       "    </tr>\n",
       "    <tr>\n",
       "      <th>Westmoreland</th>\n",
       "      <td>62689517.0</td>\n",
       "      <td>63286292.0</td>\n",
       "      <td>60414024.0</td>\n",
       "    </tr>\n",
       "    <tr>\n",
       "      <th>Wyoming</th>\n",
       "      <td>3017967.0</td>\n",
       "      <td>2920391.0</td>\n",
       "      <td>3026001.0</td>\n",
       "    </tr>\n",
       "    <tr>\n",
       "      <th>York</th>\n",
       "      <td>60702860.0</td>\n",
       "      <td>61521893.0</td>\n",
       "      <td>55965004.0</td>\n",
       "    </tr>\n",
       "  </tbody>\n",
       "</table>\n",
       "<p>67 rows × 3 columns</p>\n",
       "</div>"
      ],
      "text/plain": [
       "              2017-2018 Year Total ($)  2018-2019 Year Total ($)  \\\n",
       "County                                                             \n",
       "Adams                        5974649.0                 6087119.0   \n",
       "Allegheny                  287446445.0               297562217.0   \n",
       "Armstrong                    4119789.0                 4100004.0   \n",
       "Beaver                      20662151.0                21929547.0   \n",
       "Bedford                      3794119.0                 3777616.0   \n",
       "...                                ...                       ...   \n",
       "Washington                  31624485.0                32219420.0   \n",
       "Wayne                       12547260.0                12861710.0   \n",
       "Westmoreland                62689517.0                63286292.0   \n",
       "Wyoming                      3017967.0                 2920391.0   \n",
       "York                        60702860.0                61521893.0   \n",
       "\n",
       "              2019-2020 Year Total ($)  \n",
       "County                                  \n",
       "Adams                        5474672.0  \n",
       "Allegheny                  282457996.0  \n",
       "Armstrong                    3946644.0  \n",
       "Beaver                      21044165.0  \n",
       "Bedford                      3624763.0  \n",
       "...                                ...  \n",
       "Washington                  26798762.0  \n",
       "Wayne                       12246352.0  \n",
       "Westmoreland                60414024.0  \n",
       "Wyoming                      3026001.0  \n",
       "York                        55965004.0  \n",
       "\n",
       "[67 rows x 3 columns]"
      ]
     },
     "execution_count": 9,
     "metadata": {},
     "output_type": "execute_result"
    }
   ],
   "source": [
    "## Checking to make sure it works\n",
    "SalesTotals\n",
    "## It does!"
   ]
  },
  {
   "cell_type": "code",
   "execution_count": 10,
   "metadata": {},
   "outputs": [],
   "source": [
    "## Writing my dataframe to a .csv to be called and used later\n",
    "SalesTotals.to_csv(outputFile)"
   ]
  }
 ],
 "metadata": {
  "kernelspec": {
   "display_name": "Python 3",
   "language": "python",
   "name": "python3"
  },
  "language_info": {
   "codemirror_mode": {
    "name": "ipython",
    "version": 3
   },
   "file_extension": ".py",
   "mimetype": "text/x-python",
   "name": "python",
   "nbconvert_exporter": "python",
   "pygments_lexer": "ipython3",
   "version": "3.7.10"
  }
 },
 "nbformat": 4,
 "nbformat_minor": 4
}
